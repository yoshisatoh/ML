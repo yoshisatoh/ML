{
 "cells": [
  {
   "cell_type": "markdown",
   "metadata": {
    "id": "WgyHQa13aKP-"
   },
   "source": [
    "\n",
    "## 1.線形回帰"
   ]
  },
  {
   "cell_type": "code",
   "execution_count": null,
   "metadata": {
    "id": "FSHdPJfuaKQH"
   },
   "outputs": [],
   "source": [
    "import pandas as pd\n",
    "import numpy as np\n",
    "import matplotlib.pyplot as plt\n",
    "%matplotlib inline"
   ]
  },
  {
   "cell_type": "markdown",
   "metadata": {
    "id": "Viop-0-_aKQI"
   },
   "source": [
    "データを読み込みます。  \n",
    "\n",
    "データ内容は以下の通りです。\n",
    "\n",
    "ID：ID  \n",
    "sales：売上個数  \n",
    "insta_post：Instagram投稿数  \n",
    "insta_good：Instagramいいね！数  \n",
    "flyer：チラシ配布枚数  \n",
    "event：イベントあり＝１、イベントなし＝０  \n",
    "new_item：新作発売日＝１  \n",
    "holiday：土日祝＝１"
   ]
  },
  {
   "cell_type": "code",
   "execution_count": null,
   "metadata": {
    "colab": {
     "base_uri": "https://localhost:8080/",
     "height": 225
    },
    "executionInfo": {
     "elapsed": 618,
     "status": "ok",
     "timestamp": 1612968494906,
     "user": {
      "displayName": "上矢莉子",
      "photoUrl": "",
      "userId": "03480317459311016414"
     },
     "user_tz": -540
    },
    "id": "F7dpbrw-aKQJ",
    "outputId": "3b2496a6-af65-432f-cc14-3a6f0229338c"
   },
   "outputs": [
    {
     "data": {
      "text/html": [
       "<div>\n",
       "<style scoped>\n",
       "    .dataframe tbody tr th:only-of-type {\n",
       "        vertical-align: middle;\n",
       "    }\n",
       "\n",
       "    .dataframe tbody tr th {\n",
       "        vertical-align: top;\n",
       "    }\n",
       "\n",
       "    .dataframe thead th {\n",
       "        text-align: right;\n",
       "    }\n",
       "</style>\n",
       "<table border=\"1\" class=\"dataframe\">\n",
       "  <thead>\n",
       "    <tr style=\"text-align: right;\">\n",
       "      <th></th>\n",
       "      <th>sales</th>\n",
       "      <th>insta_post</th>\n",
       "      <th>insta_good</th>\n",
       "      <th>flyer</th>\n",
       "      <th>event</th>\n",
       "      <th>new_item</th>\n",
       "      <th>holiday</th>\n",
       "    </tr>\n",
       "    <tr>\n",
       "      <th>ID</th>\n",
       "      <th></th>\n",
       "      <th></th>\n",
       "      <th></th>\n",
       "      <th></th>\n",
       "      <th></th>\n",
       "      <th></th>\n",
       "      <th></th>\n",
       "    </tr>\n",
       "  </thead>\n",
       "  <tbody>\n",
       "    <tr>\n",
       "      <th>1</th>\n",
       "      <td>62</td>\n",
       "      <td>0</td>\n",
       "      <td>20</td>\n",
       "      <td>0</td>\n",
       "      <td>0</td>\n",
       "      <td>0</td>\n",
       "      <td>0</td>\n",
       "    </tr>\n",
       "    <tr>\n",
       "      <th>2</th>\n",
       "      <td>60</td>\n",
       "      <td>0</td>\n",
       "      <td>24</td>\n",
       "      <td>0</td>\n",
       "      <td>0</td>\n",
       "      <td>0</td>\n",
       "      <td>0</td>\n",
       "    </tr>\n",
       "    <tr>\n",
       "      <th>3</th>\n",
       "      <td>104</td>\n",
       "      <td>0</td>\n",
       "      <td>26</td>\n",
       "      <td>0</td>\n",
       "      <td>0</td>\n",
       "      <td>0</td>\n",
       "      <td>0</td>\n",
       "    </tr>\n",
       "    <tr>\n",
       "      <th>4</th>\n",
       "      <td>102</td>\n",
       "      <td>0</td>\n",
       "      <td>22</td>\n",
       "      <td>0</td>\n",
       "      <td>0</td>\n",
       "      <td>0</td>\n",
       "      <td>0</td>\n",
       "    </tr>\n",
       "    <tr>\n",
       "      <th>5</th>\n",
       "      <td>178</td>\n",
       "      <td>0</td>\n",
       "      <td>39</td>\n",
       "      <td>0</td>\n",
       "      <td>0</td>\n",
       "      <td>0</td>\n",
       "      <td>1</td>\n",
       "    </tr>\n",
       "  </tbody>\n",
       "</table>\n",
       "</div>"
      ],
      "text/plain": [
       "    sales  insta_post  insta_good  flyer  event  new_item  holiday\n",
       "ID                                                                \n",
       "1      62           0          20      0      0         0        0\n",
       "2      60           0          24      0      0         0        0\n",
       "3     104           0          26      0      0         0        0\n",
       "4     102           0          22      0      0         0        0\n",
       "5     178           0          39      0      0         0        1"
      ]
     },
     "execution_count": 2,
     "metadata": {
      "tags": []
     },
     "output_type": "execute_result"
    }
   ],
   "source": [
    "df = pd.read_csv(\"senkei.csv\", index_col=0)\n",
    "df.head()"
   ]
  },
  {
   "cell_type": "markdown",
   "metadata": {
    "id": "rNKoPRwEaKQL"
   },
   "source": [
    "### 単回帰分析"
   ]
  },
  {
   "cell_type": "markdown",
   "metadata": {
    "id": "r91W7EPvaKQM"
   },
   "source": [
    "説明変数をinsta_good、目的変数をsalesとして、単回帰分析を行います。"
   ]
  },
  {
   "cell_type": "code",
   "execution_count": null,
   "metadata": {
    "id": "evSBR3kzaKQM"
   },
   "outputs": [],
   "source": [
    "# 説明変数insta_good\n",
    "X = df.iloc[:, 2].values\n",
    "X = X.reshape(-1,1)\n",
    " \n",
    "# 目的変数sales\n",
    "Y = df.iloc[:, 0].values"
   ]
  },
  {
   "cell_type": "code",
   "execution_count": null,
   "metadata": {
    "colab": {
     "base_uri": "https://localhost:8080/"
    },
    "executionInfo": {
     "elapsed": 1333,
     "status": "ok",
     "timestamp": 1612968550375,
     "user": {
      "displayName": "上矢莉子",
      "photoUrl": "",
      "userId": "03480317459311016414"
     },
     "user_tz": -540
    },
    "id": "rdLmpcOSaKQN",
    "outputId": "ece9b32b-38a4-47cd-d06f-4e2268b782c7"
   },
   "outputs": [
    {
     "name": "stdout",
     "output_type": "stream",
     "text": [
      "[2.05852128]\n",
      "101.71515440413765\n",
      "0.5218980221448157\n"
     ]
    }
   ],
   "source": [
    "# sklearn.linear_model.LinearRegression クラスを読み込み\n",
    "from sklearn import linear_model\n",
    "clf = linear_model.LinearRegression()\n",
    "\n",
    "# 予測モデルを作成\n",
    "clf.fit(X, Y)\n",
    " \n",
    "# 回帰係数\n",
    "print(clf.coef_)\n",
    " \n",
    "# 切片\n",
    "print(clf.intercept_)\n",
    " \n",
    "# 決定係数\n",
    "print(clf.score(X, Y))"
   ]
  },
  {
   "cell_type": "markdown",
   "metadata": {
    "id": "pZY7M7qwaKQO"
   },
   "source": [
    "insta_goodの回帰係数と、単回帰の式の切片が分かりました。  \n",
    "決定係数は、0～1の範囲の値をとり、値が大きいほどモデルが適切にデータを表現できているといえます。"
   ]
  },
  {
   "cell_type": "markdown",
   "metadata": {
    "id": "wgBzIqEXaKQP"
   },
   "source": [
    "### 重回帰分析"
   ]
  },
  {
   "cell_type": "markdown",
   "metadata": {
    "id": "TKa5RlLkaKQR"
   },
   "source": [
    "insta_post以降6カラムを説明変数、目的変数をsalesとして、重回帰分析を行います。"
   ]
  },
  {
   "cell_type": "code",
   "execution_count": null,
   "metadata": {
    "id": "VzyqIXkVaKQS"
   },
   "outputs": [],
   "source": [
    "# 説明変数\n",
    "X = df.iloc[:, 1:7].values\n",
    "\n",
    "# 目的変数\n",
    "Y = df.iloc[:, 0].values"
   ]
  },
  {
   "cell_type": "code",
   "execution_count": null,
   "metadata": {
    "colab": {
     "base_uri": "https://localhost:8080/"
    },
    "executionInfo": {
     "elapsed": 693,
     "status": "ok",
     "timestamp": 1612968563555,
     "user": {
      "displayName": "上矢莉子",
      "photoUrl": "",
      "userId": "03480317459311016414"
     },
     "user_tz": -540
    },
    "id": "NxDmOYZBaKQT",
    "outputId": "e759359a-ab4f-4ca8-fa82-3cb306a645be"
   },
   "outputs": [
    {
     "name": "stdout",
     "output_type": "stream",
     "text": [
      "         Name  Coefficients\n",
      "2       flyer      0.206098\n",
      "1  insta_good      0.684993\n",
      "5     holiday     26.549665\n",
      "4    new_item     38.905751\n",
      "0  insta_post     48.871107\n",
      "3       event    245.436745\n",
      "131.89410662096915\n"
     ]
    }
   ],
   "source": [
    "# 予測モデルを作成\n",
    "clf.fit(X, Y)\n",
    "\n",
    "# 偏回帰係数\n",
    "df_except_sales = df.iloc[:, 1:7]\n",
    "print(pd.DataFrame({\"Name\":df_except_sales.columns,\n",
    "                    \"Coefficients\":np.abs(clf.coef_)}).sort_values(by='Coefficients'))\n",
    " \n",
    "# 切片\n",
    "print(clf.intercept_)"
   ]
  },
  {
   "cell_type": "markdown",
   "metadata": {
    "id": "J-kKjXNfaKQT"
   },
   "source": [
    "各変数の偏回帰係数と重回帰の式の切片が分かりました。"
   ]
  },
  {
   "cell_type": "markdown",
   "metadata": {
    "id": "4bJbwdh1aKQT"
   },
   "source": [
    "各変数がどの程度目的変数に影響しているかを確認するには、各変数を正規化します。"
   ]
  },
  {
   "cell_type": "code",
   "execution_count": null,
   "metadata": {
    "colab": {
     "base_uri": "https://localhost:8080/",
     "height": 225
    },
    "executionInfo": {
     "elapsed": 665,
     "status": "ok",
     "timestamp": 1612968569063,
     "user": {
      "displayName": "上矢莉子",
      "photoUrl": "",
      "userId": "03480317459311016414"
     },
     "user_tz": -540
    },
    "id": "pwcl276xaKQU",
    "outputId": "d2a8b3d3-1d4a-4fea-cf36-41919f58ee1c"
   },
   "outputs": [
    {
     "data": {
      "text/html": [
       "<div>\n",
       "<style scoped>\n",
       "    .dataframe tbody tr th:only-of-type {\n",
       "        vertical-align: middle;\n",
       "    }\n",
       "\n",
       "    .dataframe tbody tr th {\n",
       "        vertical-align: top;\n",
       "    }\n",
       "\n",
       "    .dataframe thead th {\n",
       "        text-align: right;\n",
       "    }\n",
       "</style>\n",
       "<table border=\"1\" class=\"dataframe\">\n",
       "  <thead>\n",
       "    <tr style=\"text-align: right;\">\n",
       "      <th></th>\n",
       "      <th>sales</th>\n",
       "      <th>insta_post</th>\n",
       "      <th>insta_good</th>\n",
       "      <th>flyer</th>\n",
       "      <th>event</th>\n",
       "      <th>new_item</th>\n",
       "      <th>holiday</th>\n",
       "    </tr>\n",
       "    <tr>\n",
       "      <th>ID</th>\n",
       "      <th></th>\n",
       "      <th></th>\n",
       "      <th></th>\n",
       "      <th></th>\n",
       "      <th></th>\n",
       "      <th></th>\n",
       "      <th></th>\n",
       "    </tr>\n",
       "  </thead>\n",
       "  <tbody>\n",
       "    <tr>\n",
       "      <th>1</th>\n",
       "      <td>-1.427147</td>\n",
       "      <td>-0.322749</td>\n",
       "      <td>-0.839503</td>\n",
       "      <td>-0.511766</td>\n",
       "      <td>-0.138675</td>\n",
       "      <td>-0.19803</td>\n",
       "      <td>-0.657596</td>\n",
       "    </tr>\n",
       "    <tr>\n",
       "      <th>2</th>\n",
       "      <td>-1.447439</td>\n",
       "      <td>-0.322749</td>\n",
       "      <td>-0.723860</td>\n",
       "      <td>-0.511766</td>\n",
       "      <td>-0.138675</td>\n",
       "      <td>-0.19803</td>\n",
       "      <td>-0.657596</td>\n",
       "    </tr>\n",
       "    <tr>\n",
       "      <th>3</th>\n",
       "      <td>-1.001013</td>\n",
       "      <td>-0.322749</td>\n",
       "      <td>-0.666038</td>\n",
       "      <td>-0.511766</td>\n",
       "      <td>-0.138675</td>\n",
       "      <td>-0.19803</td>\n",
       "      <td>-0.657596</td>\n",
       "    </tr>\n",
       "    <tr>\n",
       "      <th>4</th>\n",
       "      <td>-1.021305</td>\n",
       "      <td>-0.322749</td>\n",
       "      <td>-0.781681</td>\n",
       "      <td>-0.511766</td>\n",
       "      <td>-0.138675</td>\n",
       "      <td>-0.19803</td>\n",
       "      <td>-0.657596</td>\n",
       "    </tr>\n",
       "    <tr>\n",
       "      <th>5</th>\n",
       "      <td>-0.250205</td>\n",
       "      <td>-0.322749</td>\n",
       "      <td>-0.290198</td>\n",
       "      <td>-0.511766</td>\n",
       "      <td>-0.138675</td>\n",
       "      <td>-0.19803</td>\n",
       "      <td>1.520691</td>\n",
       "    </tr>\n",
       "  </tbody>\n",
       "</table>\n",
       "</div>"
      ],
      "text/plain": [
       "       sales  insta_post  insta_good     flyer     event  new_item   holiday\n",
       "ID                                                                          \n",
       "1  -1.427147   -0.322749   -0.839503 -0.511766 -0.138675  -0.19803 -0.657596\n",
       "2  -1.447439   -0.322749   -0.723860 -0.511766 -0.138675  -0.19803 -0.657596\n",
       "3  -1.001013   -0.322749   -0.666038 -0.511766 -0.138675  -0.19803 -0.657596\n",
       "4  -1.021305   -0.322749   -0.781681 -0.511766 -0.138675  -0.19803 -0.657596\n",
       "5  -0.250205   -0.322749   -0.290198 -0.511766 -0.138675  -0.19803  1.520691"
      ]
     },
     "execution_count": 7,
     "metadata": {
      "tags": []
     },
     "output_type": "execute_result"
    }
   ],
   "source": [
    "# データフレームの各列を正規化\n",
    "df2 = df.apply(lambda x: (x - np.mean(x)) / np.std(x))\n",
    "df2.head()"
   ]
  },
  {
   "cell_type": "code",
   "execution_count": null,
   "metadata": {
    "id": "yoorcsthaKQU"
   },
   "outputs": [],
   "source": [
    "# 説明変数\n",
    "X = df2.iloc[:, 1:7].values\n",
    "\n",
    "# 目的変数\n",
    "Y = df2.iloc[:, 0].values"
   ]
  },
  {
   "cell_type": "code",
   "execution_count": null,
   "metadata": {
    "colab": {
     "base_uri": "https://localhost:8080/"
    },
    "executionInfo": {
     "elapsed": 602,
     "status": "ok",
     "timestamp": 1612968574216,
     "user": {
      "displayName": "上矢莉子",
      "photoUrl": "",
      "userId": "03480317459311016414"
     },
     "user_tz": -540
    },
    "id": "md_am7mlaKQU",
    "outputId": "7b09f1a7-ed9c-4578-e0c1-607c147e075e"
   },
   "outputs": [
    {
     "name": "stdout",
     "output_type": "stream",
     "text": [
      "         Name  Coefficients\n",
      "4    new_item      0.075220\n",
      "5     holiday      0.123663\n",
      "0  insta_post      0.144937\n",
      "1  insta_good      0.240394\n",
      "3       event      0.338815\n",
      "2       flyer      0.424020\n",
      "2.58448429859836e-17\n"
     ]
    }
   ],
   "source": [
    "# 予測モデルを作成\n",
    "clf.fit(X, Y)\n",
    "\n",
    "# 偏回帰係数\n",
    "df2_except_sales = df2.iloc[:, 1:7]\n",
    "print(pd.DataFrame({\"Name\":df2_except_sales.columns,\n",
    "                    \"Coefficients\":np.abs(clf.coef_)}).sort_values(by='Coefficients'))\n",
    "\n",
    "# 切片\n",
    "print(clf.intercept_)"
   ]
  },
  {
   "cell_type": "markdown",
   "metadata": {
    "id": "gV9VP5KVaKQU"
   },
   "source": [
    "各変数の偏回帰係数と重回帰の式の切片が分かりました。\n",
    "\n",
    "正規化した偏回帰係数によって、売上個数に影響を与えている変数を確認することができます。"
   ]
  },
  {
   "cell_type": "markdown",
   "metadata": {
    "id": "ev3WMnu_aKQV"
   },
   "source": [
    "### 線形回帰（教師あり学習） "
   ]
  },
  {
   "cell_type": "markdown",
   "metadata": {
    "id": "Tc0AzAe1aKQV"
   },
   "source": [
    "学習用データとテストデータを用いて、線形回帰（重回帰分析）を行います。  \n",
    "先程、正規化したデータを使います。"
   ]
  },
  {
   "cell_type": "code",
   "execution_count": null,
   "metadata": {
    "id": "cgsoRey6aKQV"
   },
   "outputs": [],
   "source": [
    "# 説明変数\n",
    "X = df2.iloc[:, 1:7].values\n",
    "\n",
    "# 目的変数\n",
    "Y = df2.iloc[:, 0].values\n",
    "\n",
    "#学習用データとテスト用データを7:3に分割する\n",
    "from sklearn.model_selection import train_test_split\n",
    "X_train, X_test, Y_train, Y_test = train_test_split(X, Y, test_size=0.3)"
   ]
  },
  {
   "cell_type": "code",
   "execution_count": null,
   "metadata": {
    "colab": {
     "base_uri": "https://localhost:8080/"
    },
    "executionInfo": {
     "elapsed": 761,
     "status": "ok",
     "timestamp": 1612968589055,
     "user": {
      "displayName": "上矢莉子",
      "photoUrl": "",
      "userId": "03480317459311016414"
     },
     "user_tz": -540
    },
    "id": "KzDrynifaKQV",
    "outputId": "4442449f-adc3-499b-b0a4-b900f26e2638"
   },
   "outputs": [
    {
     "name": "stdout",
     "output_type": "stream",
     "text": [
      "         Name  Coefficients\n",
      "4    new_item     -0.058537\n",
      "5     holiday      0.096161\n",
      "0  insta_post      0.136148\n",
      "1  insta_good      0.230498\n",
      "3       event      0.350707\n",
      "2       flyer      0.402379\n",
      "-0.0021374327203952936\n"
     ]
    }
   ],
   "source": [
    "# 予測モデルを作成\n",
    "model = linear_model.LinearRegression()\n",
    "model.fit(X_train, Y_train)\n",
    "\n",
    "# 偏回帰係数\n",
    "df2_except_sales = df2.iloc[:, 1:7]\n",
    "print(pd.DataFrame({\"Name\":df2_except_sales.columns,\n",
    "                    \"Coefficients\":model.coef_}).sort_values(by='Coefficients') )\n",
    " \n",
    "# 切片\n",
    "print(model.intercept_)"
   ]
  },
  {
   "cell_type": "markdown",
   "metadata": {
    "id": "sGEacpcdaKQW"
   },
   "source": [
    "学習データにおける各変数の偏回帰係数と重回帰の式の切片が分かりました。  "
   ]
  },
  {
   "cell_type": "markdown",
   "metadata": {
    "id": "ZO4cXxcObLx1"
   },
   "source": [
    "予測値と実測値の平均二乗誤差を求めてみます。  \n",
    "また、残差プロット（横軸に予測値、縦軸に実際の値との差をプロットしたもの）をプロットします。  \n",
    "残差プロットは、y=0の水平線に近いほど、良い精度のデータといえます"
   ]
  },
  {
   "cell_type": "code",
   "execution_count": null,
   "metadata": {
    "colab": {
     "base_uri": "https://localhost:8080/"
    },
    "executionInfo": {
     "elapsed": 621,
     "status": "ok",
     "timestamp": 1612968874973,
     "user": {
      "displayName": "上矢莉子",
      "photoUrl": "",
      "userId": "03480317459311016414"
     },
     "user_tz": -540
    },
    "id": "y4oGd1QEaKQW",
    "outputId": "1c908389-aee3-4f4f-c9d9-a07c1ccf16a4"
   },
   "outputs": [
    {
     "name": "stdout",
     "output_type": "stream",
     "text": [
      "X_trainを使ったモデルの平均二乗誤差＝0.34\n",
      "X_testを使ったモデルの平均二乗誤差＝0.19\n"
     ]
    }
   ],
   "source": [
    "pred_train = model.predict(X_train)\n",
    "pred_test = model.predict(X_test)\n",
    "\n",
    "print('X_trainを使ったモデルの平均二乗誤差＝{:0.2f}'.format(np.mean((np.array(Y_train, dtype = int) - pred_train) ** 2)))\n",
    "print('X_testを使ったモデルの平均二乗誤差＝{:0.2f}'.format(np.mean((np.array(Y_test, dtype = int) - pred_test) ** 2)))"
   ]
  },
  {
   "cell_type": "code",
   "execution_count": null,
   "metadata": {
    "id": "EmgFifosaKQZ",
    "outputId": "94021df1-1fd5-4dc8-8433-2ee3963dd92e"
   },
   "outputs": [
    {
     "data": {
      "text/plain": [
       "Text(0.5, 1.0, 'Residual Plots')"
      ]
     },
     "execution_count": 81,
     "metadata": {
      "tags": []
     },
     "output_type": "execute_result"
    },
    {
     "data": {
      "image/png": "[encoded data removed]",
      "text/plain": [
       "<Figure size 432x288 with 1 Axes>"
      ]
     },
     "metadata": {
      "needs_background": "light",
      "tags": []
     },
     "output_type": "display_data"
    }
   ],
   "source": [
    "# 学習用データの残差プロット\n",
    "train = plt.scatter(pred_train,(pred_train-Y_train),c='b',alpha=0.5)\n",
    "\n",
    "# テスト用データの残差プロット\n",
    "test = plt.scatter(pred_test,(pred_test-Y_test),c='r',alpha=0.5)\n",
    "\n",
    "# y=0の水平線\n",
    "plt.hlines(y=0,xmin=-8,xmax=8)\n",
    "\n",
    "plt.legend((train,test),('Training','Test'),loc='lower left')\n",
    "plt.title('Residual Plots')"
   ]
  }
 ],
 "metadata": {
  "colab": {
   "collapsed_sections": [],
   "name": "1.線形回帰.ipynb",
   "provenance": [
    {
     "file_id": "1T-j82CFYMTDdBEdIDatKXILkY4RcQKsF",
     "timestamp": 1614217006037
    }
   ]
  },
  "kernelspec": {
   "display_name": "Python 3",
   "language": "python",
   "name": "python3"
  },
  "language_info": {
   "codemirror_mode": {
    "name": "ipython",
    "version": 3
   },
   "file_extension": ".py",
   "mimetype": "text/x-python",
   "name": "python",
   "nbconvert_exporter": "python",
   "pygments_lexer": "ipython3",
   "version": "3.7.4"
  }
 },
 "nbformat": 4,
 "nbformat_minor": 1
}
